{
 "cells": [
  {
   "cell_type": "markdown",
   "id": "044f7cd8",
   "metadata": {},
   "source": [
    "# Read Me\n",
    "- upbit에서 비트코인의 전일 종가를 가져왔습니다.\n",
    "- sqlite로 데이터베이스를 만들고 데이터를 추가하였습니다.\n",
    "- 프로세스를 함수에 할당하였습니다.\n",
    "- apscheduler로 매일 새벽 1시에 돌아갈 수 있도록 스케줄링 하였습니다."
   ]
  },
  {
   "cell_type": "code",
   "execution_count": 1,
   "id": "63d03ea6",
   "metadata": {},
   "outputs": [],
   "source": [
    "import pandas as pd\n",
    "import pyupbit\n",
    "from datetime import datetime, timedelta\n",
    "import sqlite3\n",
    "import apscheduler"
   ]
  },
  {
   "cell_type": "code",
   "execution_count": 2,
   "id": "eeed5699",
   "metadata": {},
   "outputs": [
    {
     "data": {
      "text/html": [
       "<div>\n",
       "<style scoped>\n",
       "    .dataframe tbody tr th:only-of-type {\n",
       "        vertical-align: middle;\n",
       "    }\n",
       "\n",
       "    .dataframe tbody tr th {\n",
       "        vertical-align: top;\n",
       "    }\n",
       "\n",
       "    .dataframe thead th {\n",
       "        text-align: right;\n",
       "    }\n",
       "</style>\n",
       "<table border=\"1\" class=\"dataframe\">\n",
       "  <thead>\n",
       "    <tr style=\"text-align: right;\">\n",
       "      <th></th>\n",
       "      <th>open</th>\n",
       "      <th>high</th>\n",
       "      <th>low</th>\n",
       "      <th>close</th>\n",
       "      <th>volume</th>\n",
       "      <th>value</th>\n",
       "    </tr>\n",
       "  </thead>\n",
       "  <tbody>\n",
       "    <tr>\n",
       "      <th>2021-10-30 09:00:00</th>\n",
       "      <td>74568000.0</td>\n",
       "      <td>74748000.0</td>\n",
       "      <td>72910000.0</td>\n",
       "      <td>73413000.0</td>\n",
       "      <td>6019.372636</td>\n",
       "      <td>4.439742e+11</td>\n",
       "    </tr>\n",
       "    <tr>\n",
       "      <th>2021-10-31 09:00:00</th>\n",
       "      <td>73428000.0</td>\n",
       "      <td>74502000.0</td>\n",
       "      <td>71869000.0</td>\n",
       "      <td>72081000.0</td>\n",
       "      <td>5864.056826</td>\n",
       "      <td>4.284697e+11</td>\n",
       "    </tr>\n",
       "  </tbody>\n",
       "</table>\n",
       "</div>"
      ],
      "text/plain": [
       "                           open        high         low       close  \\\n",
       "2021-10-30 09:00:00  74568000.0  74748000.0  72910000.0  73413000.0   \n",
       "2021-10-31 09:00:00  73428000.0  74502000.0  71869000.0  72081000.0   \n",
       "\n",
       "                          volume         value  \n",
       "2021-10-30 09:00:00  6019.372636  4.439742e+11  \n",
       "2021-10-31 09:00:00  5864.056826  4.284697e+11  "
      ]
     },
     "execution_count": 2,
     "metadata": {},
     "output_type": "execute_result"
    }
   ],
   "source": [
    "# 최근 2일의 비트코인 데이터 불러오기\n",
    "btc_price = pyupbit.get_ohlcv(\"KRW-BTC\", count = 2)\n",
    "btc_price"
   ]
  },
  {
   "cell_type": "code",
   "execution_count": 21,
   "id": "21dbfc1e",
   "metadata": {},
   "outputs": [
    {
     "data": {
      "text/plain": [
       "('2021-10-30', 73413000.0)"
      ]
     },
     "execution_count": 21,
     "metadata": {},
     "output_type": "execute_result"
    }
   ],
   "source": [
    "# 전일의 종가, btc_price_close에 할당\n",
    "btc_price_close = btc_price.iloc[0,3]\n",
    "\n",
    "# 전일 날짜 yesterday에 할당\n",
    "yesterday = datetime.today() - timedelta(1)\n",
    "yesterday = yesterday.strftime('%Y-%m-%d')\n",
    "\n",
    "# 튜플로 묶어 data에 할당\n",
    "data = (yesterday, btc_price_close)\n",
    "data"
   ]
  },
  {
   "cell_type": "code",
   "execution_count": null,
   "id": "5c52a3ce",
   "metadata": {},
   "outputs": [],
   "source": [
    "conn = sqlite3.connect('btc_price.db')\n",
    "cur = conn.cursor()\n",
    "# 테이블 생성\n",
    "conn.execute('create table btc_price(date text, price integer)')\n",
    "\n",
    "# 전일 날짜와 종가 데이터 추가\n",
    "cur.execute('insert into btc_price values {}'.format(data))\n",
    "# 저장\n",
    "conn.commit()\n",
    "conn.close()"
   ]
  },
  {
   "cell_type": "code",
   "execution_count": 5,
   "id": "cf9b95d7",
   "metadata": {},
   "outputs": [],
   "source": [
    "# 스케줄링을 위한 함수 선언\n",
    "\n",
    "def get_data():\n",
    "    # 전일의 종가, btc_price_close에 할당\n",
    "    btc_price = pyupbit.get_ohlcv(\"KRW-BTC\", count = 2)\n",
    "    btc_price_close = btc_price.iloc[0,3]\n",
    "\n",
    "    # 전일 날짜 yesterday에 할당\n",
    "    yesterday = datetime.today() - timedelta(1)\n",
    "    yesterday = yesterday.strftime('%Y-%m-%d')\n",
    "\n",
    "    # 튜플로 묶어 data에 할당\n",
    "    data = (yesterday, btc_price_close)\n",
    "    return data\n",
    "    \n",
    "def add_data():\n",
    "    conn = sqlite3.connect('btc_price.db')\n",
    "    cur = conn.cursor()\n",
    "    # 전일 날짜와 종가 데이터 추가\n",
    "    global data\n",
    "    data = get_data()\n",
    "    cur.execute('insert into btc_price values {}'.format(data))\n",
    "    # 저장\n",
    "    conn.commit()"
   ]
  },
  {
   "cell_type": "code",
   "execution_count": 20,
   "id": "7e392b31",
   "metadata": {},
   "outputs": [
    {
     "name": "stdout",
     "output_type": "stream",
     "text": [
      "(1, 1)\n"
     ]
    },
    {
     "data": {
      "text/html": [
       "<div>\n",
       "<style scoped>\n",
       "    .dataframe tbody tr th:only-of-type {\n",
       "        vertical-align: middle;\n",
       "    }\n",
       "\n",
       "    .dataframe tbody tr th {\n",
       "        vertical-align: top;\n",
       "    }\n",
       "\n",
       "    .dataframe thead th {\n",
       "        text-align: right;\n",
       "    }\n",
       "</style>\n",
       "<table border=\"1\" class=\"dataframe\">\n",
       "  <thead>\n",
       "    <tr style=\"text-align: right;\">\n",
       "      <th></th>\n",
       "      <th>price</th>\n",
       "    </tr>\n",
       "    <tr>\n",
       "      <th>date</th>\n",
       "      <th></th>\n",
       "    </tr>\n",
       "  </thead>\n",
       "  <tbody>\n",
       "    <tr>\n",
       "      <th>2021-10-30</th>\n",
       "      <td>73413000</td>\n",
       "    </tr>\n",
       "  </tbody>\n",
       "</table>\n",
       "</div>"
      ],
      "text/plain": [
       "               price\n",
       "date                \n",
       "2021-10-30  73413000"
      ]
     },
     "execution_count": 20,
     "metadata": {},
     "output_type": "execute_result"
    }
   ],
   "source": [
    "# 잘 추가 되는지 확인\n",
    "add_data()\n",
    "\n",
    "conn = sqlite3.connect('btc_price.db')\n",
    "cur = conn.cursor()\n",
    "# 쿼리입력\n",
    "cur.execute('select * from btc_price')\n",
    "# 결과 df에 할당\n",
    "df = cur.fetchall()\n",
    "conn.close()\n",
    "\n",
    "# 컬럼명 cols에 할당\n",
    "cols = [i[0] for i in cur.description]\n",
    "\n",
    "# 데이터프레임화\n",
    "df = pd.DataFrame(df, columns = cols)\n",
    "df = df.set_index('date')\n",
    "\n",
    "# 미리보기\n",
    "print(df.shape)\n",
    "df.head()"
   ]
  },
  {
   "cell_type": "code",
   "execution_count": 19,
   "id": "08769fb1",
   "metadata": {},
   "outputs": [],
   "source": [
    "# 정리\n",
    "conn = sqlite3.connect('btc_price.db')\n",
    "cur = conn.cursor()\n",
    "\n",
    "cur.execute('delete from btc_price')\n",
    "\n",
    "df = cur.fetchall()\n",
    "conn.commit()\n",
    "conn.close()"
   ]
  },
  {
   "cell_type": "code",
   "execution_count": null,
   "id": "dc2eb04a",
   "metadata": {},
   "outputs": [],
   "source": [
    "# 스케줄링\n",
    "import requests\n",
    "from apscheduler.schedulers.blocking import BlockingScheduler\n",
    "\n",
    "token = \""\n",
    "\n",
    "def slack_noti():\n",
    "    requests.post(\"https://slack.com/api/chat.postMessage\",\n",
    "        headers={\"Authorization\": \"Bearer \"+token},\n",
    "        data={\"channel\": \"@U02D8EAK6BX\", \"text\": '{} - added'.format(data)})\n",
    "\n",
    "\n",
    "# 매일 1시30분마다 실행\n",
    "sched = BlockingScheduler()\n",
    "sched.add_job(slack_noti, 'cron', hour='1', minute='30')\n",
    "sched.add_job(add_data, 'cron', hour='1', minute='30')\n",
    "sched.start()"
   ]
  }
 ],
 "metadata": {
  "kernelspec": {
   "display_name": "Python 3",
   "language": "python",
   "name": "python3"
  },
  "language_info": {
   "codemirror_mode": {
    "name": "ipython",
    "version": 3
   },
   "file_extension": ".py",
   "mimetype": "text/x-python",
   "name": "python",
   "nbconvert_exporter": "python",
   "pygments_lexer": "ipython3",
   "version": "3.9.5"
  }
 },
 "nbformat": 4,
 "nbformat_minor": 5
}
