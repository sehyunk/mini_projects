{
 "cells": [
  {
   "cell_type": "code",
   "execution_count": 247,
   "metadata": {},
   "outputs": [],
   "source": [
    "import random\n",
    "def gen_answer():\n",
    "    num_range = range(1,10)\n",
    "    answer = random.sample(num_range,3)\n",
    "    answer = dict(enumerate(answer, start = 1))\n",
    "    return answer"
   ]
  },
  {
   "cell_type": "code",
   "execution_count": 248,
   "metadata": {},
   "outputs": [],
   "source": [
    "def get_nums():\n",
    "    while True:\n",
    "        num_list = input(f\"[{count}회차]: \")\n",
    "        num_list = num_list.split(' ')\n",
    "        num_list = list(map(float,num_list))\n",
    "        num_list = list(map(int,num_list))\n",
    "        if (len(set(num_list)) == 3) & (max(num_list)<10):\n",
    "            break\n",
    "        else:\n",
    "            print('똑바로 입력해라~')\n",
    "    num_dict = dict(enumerate(num_list, start = 1))\n",
    "    return num_dict"
   ]
  },
  {
   "cell_type": "code",
   "execution_count": 249,
   "metadata": {},
   "outputs": [],
   "source": [
    "def check_answer(num_dict):\n",
    "    strike = 0\n",
    "    ball = 0\n",
    "    for k,v in num_dict.items():\n",
    "        # strike 확인\n",
    "        if answer[k] == v:\n",
    "            strike += 1\n",
    "        # ball 확인\n",
    "        elif v in answer.values():\n",
    "            ball += 1\n",
    "    if strike + ball == 0:\n",
    "        print('out')\n",
    "    else:\n",
    "        print('strike:', strike, 'ball:',ball)\n",
    "    return strike"
   ]
  },
  {
   "cell_type": "code",
   "execution_count": 254,
   "metadata": {},
   "outputs": [
    {
     "name": "stdout",
     "output_type": "stream",
     "text": [
      "\n",
      "====  야구게임 ====\n",
      "|- 숫자 3개를 입력\t|\n",
      "|- 띄어쓰기로 구분\t|\n",
      "-----------------\n",
      "\n",
      "[1회차]: 1 3 5\n",
      "strike: 1 ball: 0\n",
      "[2회차]: 3 5 7\n",
      "out\n",
      "[3회차]: 1 2 6\n",
      "strike: 1 ball: 1\n",
      "[4회차]: 1 6 8\n",
      "strike: 1 ball: 0\n",
      "[5회차]: 1 9 2\n",
      "strike: 2 ball: 0\n",
      "[6회차]: 1 4 2\n",
      "strike: 3 ball: 0\n",
      "스트라이크!\n"
     ]
    }
   ],
   "source": [
    "count = 0\n",
    "print('''\n",
    "====  야구게임 ====\n",
    "|- 숫자 3개를 입력\\t|\n",
    "|- 띄어쓰기로 구분\\t|\n",
    "-----------------\n",
    "''')\n",
    "answer = gen_answer()\n",
    "while True:\n",
    "    count += 1\n",
    "    num_dict = get_nums()\n",
    "    if check_answer(num_dict) == 3:\n",
    "        print('스트라이크!')\n",
    "        break"
   ]
  }
 ],
 "metadata": {
  "kernelspec": {
   "display_name": "Python 3",
   "language": "python",
   "name": "python3"
  },
  "language_info": {
   "codemirror_mode": {
    "name": "ipython",
    "version": 3
   },
   "file_extension": ".py",
   "mimetype": "text/x-python",
   "name": "python",
   "nbconvert_exporter": "python",
   "pygments_lexer": "ipython3",
   "version": "3.9.5"
  },
  "toc": {
   "base_numbering": 1,
   "nav_menu": {},
   "number_sections": true,
   "sideBar": true,
   "skip_h1_title": false,
   "title_cell": "Table of Contents",
   "title_sidebar": "Contents",
   "toc_cell": false,
   "toc_position": {},
   "toc_section_display": true,
   "toc_window_display": false
  },
  "varInspector": {
   "cols": {
    "lenName": 16,
    "lenType": 16,
    "lenVar": 40
   },
   "kernels_config": {
    "python": {
     "delete_cmd_postfix": "",
     "delete_cmd_prefix": "del ",
     "library": "var_list.py",
     "varRefreshCmd": "print(var_dic_list())"
    },
    "r": {
     "delete_cmd_postfix": ") ",
     "delete_cmd_prefix": "rm(",
     "library": "var_list.r",
     "varRefreshCmd": "cat(var_dic_list()) "
    }
   },
   "types_to_exclude": [
    "module",
    "function",
    "builtin_function_or_method",
    "instance",
    "_Feature"
   ],
   "window_display": false
  }
 },
 "nbformat": 4,
 "nbformat_minor": 4
}
